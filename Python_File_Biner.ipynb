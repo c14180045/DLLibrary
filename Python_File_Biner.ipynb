{
  "nbformat": 4,
  "nbformat_minor": 0,
  "metadata": {
    "kernelspec": {
      "display_name": "Python 3",
      "language": "python",
      "name": "python3"
    },
    "language_info": {
      "codemirror_mode": {
        "name": "ipython",
        "version": 3
      },
      "file_extension": ".py",
      "mimetype": "text/x-python",
      "name": "python",
      "nbconvert_exporter": "python",
      "pygments_lexer": "ipython3",
      "version": "3.7.4"
    },
    "colab": {
      "name": "Python File Biner.ipynb",
      "provenance": [],
      "toc_visible": true
    }
  },
  "cells": [
    {
      "cell_type": "markdown",
      "metadata": {
        "id": "I-zCyO7tjocP"
      },
      "source": [
        "# Python File Biner"
      ]
    },
    {
      "cell_type": "markdown",
      "metadata": {
        "id": "h7CGAm7yjocV"
      },
      "source": [
        "## Opening Files"
      ]
    },
    {
      "cell_type": "markdown",
      "metadata": {
        "id": "C3Eukq9JjocW"
      },
      "source": [
        "#### Read Mode"
      ]
    },
    {
      "cell_type": "code",
      "metadata": {
        "id": "F9dUfnJZjocW"
      },
      "source": [
        "file = open(\"filename.txt\",\"rb\")"
      ],
      "execution_count": null,
      "outputs": []
    },
    {
      "cell_type": "markdown",
      "metadata": {
        "id": "YPylWh43jocX"
      },
      "source": [
        "#### Write Mode"
      ]
    },
    {
      "cell_type": "code",
      "metadata": {
        "id": "cDYbJv93jocX"
      },
      "source": [
        "file = open(\"filename.txt\",\"wb\")"
      ],
      "execution_count": null,
      "outputs": []
    },
    {
      "cell_type": "markdown",
      "metadata": {
        "id": "KWiuw04CjocX"
      },
      "source": [
        "#### Append Mode"
      ]
    },
    {
      "cell_type": "code",
      "metadata": {
        "id": "kCJ-sRb1jocY"
      },
      "source": [
        "file = open(\"filename.txt\",\"ab\")"
      ],
      "execution_count": null,
      "outputs": []
    },
    {
      "cell_type": "markdown",
      "metadata": {
        "id": "gJ9abBvkjocY"
      },
      "source": [
        "#### Create Mode"
      ]
    },
    {
      "cell_type": "code",
      "metadata": {
        "id": "R2ShHMUPjocY"
      },
      "source": [
        "file = open(\"filename.txt\",\"xb\")"
      ],
      "execution_count": null,
      "outputs": []
    },
    {
      "cell_type": "markdown",
      "metadata": {
        "id": "z5-5hplHjocY"
      },
      "source": [
        "## Navigating File Directories"
      ]
    },
    {
      "cell_type": "markdown",
      "metadata": {
        "id": "ZXWRXbkrjocZ"
      },
      "source": [
        "#### Checking if File Exists"
      ]
    },
    {
      "cell_type": "code",
      "metadata": {
        "id": "rSodxTrTjocZ"
      },
      "source": [
        "import os\n",
        "if os.path.exists(\"filename.txt\"):\n",
        "    print(\"File Exists!\")\n",
        "    file = open(\"filename.txt\", \"rb\")\n",
        "    file.close()\n",
        "else:\n",
        "    print(\"File Does Not Exist!\")"
      ],
      "execution_count": null,
      "outputs": []
    },
    {
      "cell_type": "markdown",
      "metadata": {
        "id": "nP41AKYwjocZ"
      },
      "source": [
        "#### Deleting Files"
      ]
    },
    {
      "cell_type": "code",
      "metadata": {
        "id": "ky9u9ItijocZ"
      },
      "source": [
        "import os\n",
        "if os.path.exists(\"filename.txt\"):\n",
        "    os.remove(\"filename.txt\"):\n",
        "else:\n",
        "    print(\"File Does Not Exist!\")"
      ],
      "execution_count": null,
      "outputs": []
    },
    {
      "cell_type": "markdown",
      "metadata": {
        "id": "gIkuhCQbjoca"
      },
      "source": [
        "#### Deleting Folders"
      ]
    },
    {
      "cell_type": "code",
      "metadata": {
        "id": "U-o0yPjIjoca"
      },
      "source": [
        "import os\n",
        "if os.path.exists(\"samplefolder/\"):\n",
        "    os.rmdir(\"samplefolder\")\n",
        "else:\n",
        "    print(\"Folder Does Not Exist!\")"
      ],
      "execution_count": null,
      "outputs": []
    },
    {
      "cell_type": "markdown",
      "metadata": {
        "id": "6_MNE_u6joca"
      },
      "source": [
        "## Reading Files"
      ]
    },
    {
      "cell_type": "markdown",
      "metadata": {
        "id": "Br4b5MPQjoca"
      },
      "source": [
        "#### Read Entire File"
      ]
    },
    {
      "cell_type": "code",
      "metadata": {
        "id": "AwxxSLavjoca"
      },
      "source": [
        "file = open(\"filename.txt\",\"rb\")\n",
        "print(file.read())"
      ],
      "execution_count": null,
      "outputs": []
    },
    {
      "cell_type": "markdown",
      "metadata": {
        "id": "wpYjDE-2jocb"
      },
      "source": [
        "#### Read Parts of the File"
      ]
    },
    {
      "cell_type": "code",
      "metadata": {
        "id": "LYfu-r7djocb"
      },
      "source": [
        "file = open(\"filename.txt\",\"rb\")\n",
        "print(file.read(12))"
      ],
      "execution_count": null,
      "outputs": []
    },
    {
      "cell_type": "markdown",
      "metadata": {
        "id": "nUl-Y48Tjocb"
      },
      "source": [
        "#### Read Certain Lines"
      ]
    },
    {
      "cell_type": "code",
      "metadata": {
        "id": "kyOtUt3vjocb"
      },
      "source": [
        "file = open(\"filename.txt\",\"rb\")\n",
        "print(file.readlines())"
      ],
      "execution_count": null,
      "outputs": []
    },
    {
      "cell_type": "markdown",
      "metadata": {
        "id": "LhkBu0p4jocb"
      },
      "source": [
        "#### Closing Files"
      ]
    },
    {
      "cell_type": "code",
      "metadata": {
        "id": "L1V_1VEKjocc"
      },
      "source": [
        "file = open(\"filename.txt\",\"rb\")\n",
        "print(file.read())\n",
        "file.close()"
      ],
      "execution_count": null,
      "outputs": []
    },
    {
      "cell_type": "markdown",
      "metadata": {
        "id": "1dtPpb5xjocc"
      },
      "source": [
        "## Writing to Files"
      ]
    },
    {
      "cell_type": "markdown",
      "metadata": {
        "id": "E9z55HwEjocc"
      },
      "source": [
        "#### Writing to New Files"
      ]
    },
    {
      "cell_type": "code",
      "metadata": {
        "id": "BG5vZxmZjocc"
      },
      "source": [
        "file = open(\"filename.txt\",\"wb\")\n",
        "file.write(b\"This is a sample text.\")\n",
        "file.close()\n",
        "\n",
        "file = open(\"filename.txt\",\"rb\")\n",
        "print(file.read())\n",
        "file.close()"
      ],
      "execution_count": null,
      "outputs": []
    },
    {
      "cell_type": "markdown",
      "metadata": {
        "id": "8D-qmdPOjocc"
      },
      "source": [
        "#### Appending to Existing Files"
      ]
    },
    {
      "cell_type": "code",
      "metadata": {
        "id": "zqW8JqRwjocd"
      },
      "source": [
        "file = open(\"filename.txt\",\"ab\")\n",
        "file.write(b\"This is another sample text.\")\n",
        "file.close()\n",
        "\n",
        "file = open(\"filename.txt\", \"rb\")\n",
        "print(file.read())\n",
        "file.close()"
      ],
      "execution_count": null,
      "outputs": []
    }
  ]
}